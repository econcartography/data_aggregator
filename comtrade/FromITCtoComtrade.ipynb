{
 "cells": [
  {
   "cell_type": "code",
   "execution_count": 14,
   "metadata": {},
   "outputs": [],
   "source": [
    "import pandas as pd\n",
    "import os\n",
    "import re\n",
    "from functools import reduce\n",
    "import glob\n",
    "import numpy as np\n",
    "%matplotlib inline"
   ]
  },
  {
   "cell_type": "code",
   "execution_count": 15,
   "metadata": {},
   "outputs": [],
   "source": [
    "folder_to_process = '../ITCdata/Export_EU/'\n",
    "folder_processed = '../comtrade/Export_data_yearly/AG2/'"
   ]
  },
  {
   "cell_type": "code",
   "execution_count": 29,
   "metadata": {},
   "outputs": [],
   "source": [
    "file_name = 'Trade_Map_-_List_of_products_exported_by_MaltaAG2.txt'\n",
    "year = '2017'\n",
    "country_code = '470'\n",
    "country_name = 'Malta'\n",
    "#countries = [re.findall('by_(.+)\\.txt', f)[0] for f in os.listdir(data_folder)]\n",
    "#print(countries)"
   ]
  },
  {
   "cell_type": "code",
   "execution_count": 47,
   "metadata": {},
   "outputs": [],
   "source": [
    "df = pd.read_csv(folder_to_process+file_name,sep='\\t')\n",
    "df = df[df['Exported value in {}'.format(year)]!=0]\n",
    "df = df[df['Code']!='TOTAL']"
   ]
  },
  {
   "cell_type": "code",
   "execution_count": 48,
   "metadata": {},
   "outputs": [],
   "source": [
    "comtrade = pd.concat([pd.read_csv(f) for f in glob.glob(folder_processed+'{}/Export_{}_*_0.csv'.format(year,year))],ignore_index=1)\n",
    "dict_comtrade_commodity = dict(np.array(comtrade[['Commodity Code','Commodity']]))"
   ]
  },
  {
   "cell_type": "code",
   "execution_count": 49,
   "metadata": {},
   "outputs": [],
   "source": [
    "df['Year'] = int(year)\n",
    "df['Partner'] = 'World'\n",
    "df['Partner Code'] = 0\n",
    "df['Reporter'] = country_name\n",
    "df['Reporter Code'] = country_code\n",
    "df['Trade Value (US$)'] = df['Exported value in {}'.format(year)]*1000\n",
    "df['Commodity Code'] = df['Code']\n",
    "df['Commodity'] = [dict_comtrade_commodity[int(code)] for code in df['Commodity Code']]\n",
    "df = df[['Year','Reporter Code','Reporter', 'Partner Code', 'Partner', 'Commodity Code', 'Commodity','Trade Value (US$)']]"
   ]
  },
  {
   "cell_type": "code",
   "execution_count": 52,
   "metadata": {},
   "outputs": [],
   "source": [
    "df.to_csv(folder_processed+'{}/Export_{}_{}_0.csv'.format(year,year,country_code))"
   ]
  },
  {
   "cell_type": "code",
   "execution_count": null,
   "metadata": {},
   "outputs": [],
   "source": []
  },
  {
   "cell_type": "code",
   "execution_count": null,
   "metadata": {},
   "outputs": [],
   "source": []
  }
 ],
 "metadata": {
  "kernelspec": {
   "display_name": "Python 3",
   "language": "python",
   "name": "python3"
  },
  "language_info": {
   "codemirror_mode": {
    "name": "ipython",
    "version": 3
   },
   "file_extension": ".py",
   "mimetype": "text/x-python",
   "name": "python",
   "nbconvert_exporter": "python",
   "pygments_lexer": "ipython3",
   "version": "3.7.3"
  }
 },
 "nbformat": 4,
 "nbformat_minor": 2
}
